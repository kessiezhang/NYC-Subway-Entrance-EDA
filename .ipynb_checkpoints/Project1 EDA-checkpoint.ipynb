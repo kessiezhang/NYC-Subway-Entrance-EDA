{
 "cells": [
  {
   "cell_type": "code",
   "execution_count": 1,
   "metadata": {},
   "outputs": [],
   "source": [
    "import pandas as pd\n",
    "from datetime import date\n",
    "from datetime import datetime\n",
    "import numpy as np\n",
    "import matplotlib.pyplot as plt\n",
    "import seaborn as sns\n",
    "import csv\n",
    "import urllib.request\n",
    "import codecs\n",
    "pd.options.display.max_rows=1000\n",
    "%matplotlib inline"
   ]
  },
  {
   "cell_type": "markdown",
   "metadata": {},
   "source": [
    "## I. Data Extraction"
   ]
  },
  {
   "cell_type": "code",
   "execution_count": 2,
   "metadata": {},
   "outputs": [],
   "source": [
    "#Copy desired dates from website: http://web.mta.info/developers/turnstile.html\n",
    "raw_dates_txt = \"\"\"\n",
    "Saturday, June 29, 2019\n",
    "Saturday, June 22, 2019\n",
    "Saturday, June 15, 2019\n",
    "Saturday, June 08, 2019\n",
    "Saturday, June 01, 2019\n",
    "\"\"\""
   ]
  },
  {
   "cell_type": "code",
   "execution_count": 3,
   "metadata": {},
   "outputs": [],
   "source": [
    "date_obj_lst = [datetime.strftime(datetime.strptime(line, '%A, %B %d, %Y'), '%y%m%d') for line in raw_dates_txt.split('\\n') if line]\n",
    "    \n",
    "turnstile_url = ['http://web.mta.info/developers/data/nyct/turnstile/turnstile_' + date + '.txt' for date in date_obj_lst]\n",
    "\n",
    "with open('turnstile_data', 'w') as outfile:\n",
    "    writer = csv.writer(outfile, delimiter=',')\n",
    "    ftpstream = urllib.request.urlopen(turnstile_url[0])\n",
    "    csvfile = csv.reader(codecs.iterdecode(ftpstream, 'utf-8'))\n",
    "    for line in csvfile:\n",
    "        writer.writerow(line)    \n",
    "    for url in turnstile_url[1:]:\n",
    "        ftpstream = urllib.request.urlopen(url)\n",
    "        csvfile = csv.reader(codecs.iterdecode(ftpstream, 'utf-8'))\n",
    "        firstline = True\n",
    "        for line in csvfile:\n",
    "            if firstline:    #skip first line\n",
    "                firstline = False\n",
    "                continue\n",
    "            writer.writerow(line)"
   ]
  },
  {
   "cell_type": "code",
   "execution_count": 4,
   "metadata": {},
   "outputs": [],
   "source": [
    "with open('turnstile_data') as input:\n",
    "    turnstile = pd.read_csv(input)"
   ]
  },
  {
   "cell_type": "code",
   "execution_count": 3,
   "metadata": {},
   "outputs": [
    {
     "data": {
      "text/html": [
       "<div>\n",
       "<style scoped>\n",
       "    .dataframe tbody tr th:only-of-type {\n",
       "        vertical-align: middle;\n",
       "    }\n",
       "\n",
       "    .dataframe tbody tr th {\n",
       "        vertical-align: top;\n",
       "    }\n",
       "\n",
       "    .dataframe thead th {\n",
       "        text-align: right;\n",
       "    }\n",
       "</style>\n",
       "<table border=\"1\" class=\"dataframe\">\n",
       "  <thead>\n",
       "    <tr style=\"text-align: right;\">\n",
       "      <th></th>\n",
       "      <th>C/A</th>\n",
       "      <th>UNIT</th>\n",
       "      <th>SCP</th>\n",
       "      <th>STATION</th>\n",
       "      <th>LINENAME</th>\n",
       "      <th>DIVISION</th>\n",
       "      <th>DATE</th>\n",
       "      <th>TIME</th>\n",
       "      <th>DESC</th>\n",
       "      <th>ENTRIES</th>\n",
       "      <th>EXITS</th>\n",
       "    </tr>\n",
       "  </thead>\n",
       "  <tbody>\n",
       "    <tr>\n",
       "      <th>0</th>\n",
       "      <td>A002</td>\n",
       "      <td>R051</td>\n",
       "      <td>02-00-00</td>\n",
       "      <td>59 ST</td>\n",
       "      <td>NQR456W</td>\n",
       "      <td>BMT</td>\n",
       "      <td>12/29/2018</td>\n",
       "      <td>03:00:00</td>\n",
       "      <td>REGULAR</td>\n",
       "      <td>6889287</td>\n",
       "      <td>2335920</td>\n",
       "    </tr>\n",
       "    <tr>\n",
       "      <th>1</th>\n",
       "      <td>A002</td>\n",
       "      <td>R051</td>\n",
       "      <td>02-00-00</td>\n",
       "      <td>59 ST</td>\n",
       "      <td>NQR456W</td>\n",
       "      <td>BMT</td>\n",
       "      <td>12/29/2018</td>\n",
       "      <td>07:00:00</td>\n",
       "      <td>REGULAR</td>\n",
       "      <td>6889299</td>\n",
       "      <td>2335936</td>\n",
       "    </tr>\n",
       "    <tr>\n",
       "      <th>2</th>\n",
       "      <td>A002</td>\n",
       "      <td>R051</td>\n",
       "      <td>02-00-00</td>\n",
       "      <td>59 ST</td>\n",
       "      <td>NQR456W</td>\n",
       "      <td>BMT</td>\n",
       "      <td>12/29/2018</td>\n",
       "      <td>11:00:00</td>\n",
       "      <td>REGULAR</td>\n",
       "      <td>6889364</td>\n",
       "      <td>2336038</td>\n",
       "    </tr>\n",
       "    <tr>\n",
       "      <th>3</th>\n",
       "      <td>A002</td>\n",
       "      <td>R051</td>\n",
       "      <td>02-00-00</td>\n",
       "      <td>59 ST</td>\n",
       "      <td>NQR456W</td>\n",
       "      <td>BMT</td>\n",
       "      <td>12/29/2018</td>\n",
       "      <td>15:00:00</td>\n",
       "      <td>REGULAR</td>\n",
       "      <td>6889605</td>\n",
       "      <td>2336101</td>\n",
       "    </tr>\n",
       "    <tr>\n",
       "      <th>4</th>\n",
       "      <td>A002</td>\n",
       "      <td>R051</td>\n",
       "      <td>02-00-00</td>\n",
       "      <td>59 ST</td>\n",
       "      <td>NQR456W</td>\n",
       "      <td>BMT</td>\n",
       "      <td>12/29/2018</td>\n",
       "      <td>19:00:00</td>\n",
       "      <td>REGULAR</td>\n",
       "      <td>6889966</td>\n",
       "      <td>2336173</td>\n",
       "    </tr>\n",
       "  </tbody>\n",
       "</table>\n",
       "</div>"
      ],
      "text/plain": [
       "    C/A  UNIT       SCP STATION LINENAME DIVISION        DATE      TIME  \\\n",
       "0  A002  R051  02-00-00   59 ST  NQR456W      BMT  12/29/2018  03:00:00   \n",
       "1  A002  R051  02-00-00   59 ST  NQR456W      BMT  12/29/2018  07:00:00   \n",
       "2  A002  R051  02-00-00   59 ST  NQR456W      BMT  12/29/2018  11:00:00   \n",
       "3  A002  R051  02-00-00   59 ST  NQR456W      BMT  12/29/2018  15:00:00   \n",
       "4  A002  R051  02-00-00   59 ST  NQR456W      BMT  12/29/2018  19:00:00   \n",
       "\n",
       "      DESC  ENTRIES  \\\n",
       "0  REGULAR  6889287   \n",
       "1  REGULAR  6889299   \n",
       "2  REGULAR  6889364   \n",
       "3  REGULAR  6889605   \n",
       "4  REGULAR  6889966   \n",
       "\n",
       "   EXITS                                                                 \n",
       "0                                            2335920                     \n",
       "1                                            2335936                     \n",
       "2                                            2336038                     \n",
       "3                                            2336101                     \n",
       "4                                            2336173                     "
      ]
     },
     "execution_count": 3,
     "metadata": {},
     "output_type": "execute_result"
    }
   ],
   "source": [
    "turnstile.head()"
   ]
  },
  {
   "cell_type": "code",
   "execution_count": 5,
   "metadata": {},
   "outputs": [
    {
     "data": {
      "text/plain": [
       "Index(['C/A', 'UNIT', 'SCP', 'STATION', 'LINENAME', 'DIVISION', 'DATE', 'TIME',\n",
       "       'DESC', 'ENTRIES',\n",
       "       'EXITS                                                               '],\n",
       "      dtype='object')"
      ]
     },
     "execution_count": 5,
     "metadata": {},
     "output_type": "execute_result"
    }
   ],
   "source": [
    "turnstile.columns"
   ]
  },
  {
   "cell_type": "code",
   "execution_count": 227,
   "metadata": {},
   "outputs": [
    {
     "data": {
      "text/plain": [
       "C/A                                                                     0\n",
       "UNIT                                                                    0\n",
       "SCP                                                                     0\n",
       "STATION                                                                 0\n",
       "LINENAME                                                                0\n",
       "DIVISION                                                                0\n",
       "DATE                                                                    0\n",
       "TIME                                                                    0\n",
       "DESC                                                                    0\n",
       "ENTRIES                                                                 0\n",
       "EXITS                                                                   0\n",
       "dtype: int64"
      ]
     },
     "execution_count": 227,
     "metadata": {},
     "output_type": "execute_result"
    }
   ],
   "source": [
    "turnstile.isna().sum()"
   ]
  },
  {
   "cell_type": "code",
   "execution_count": 166,
   "metadata": {},
   "outputs": [
    {
     "name": "stdout",
     "output_type": "stream",
     "text": [
      "<class 'pandas.core.frame.DataFrame'>\n",
      "RangeIndex: 413440 entries, 0 to 413439\n",
      "Data columns (total 11 columns):\n",
      "C/A                                                                     413440 non-null object\n",
      "UNIT                                                                    413440 non-null object\n",
      "SCP                                                                     413440 non-null object\n",
      "STATION                                                                 413440 non-null object\n",
      "LINENAME                                                                413440 non-null object\n",
      "DIVISION                                                                413440 non-null object\n",
      "DATE                                                                    413440 non-null object\n",
      "TIME                                                                    413440 non-null object\n",
      "DESC                                                                    413440 non-null object\n",
      "ENTRIES                                                                 413440 non-null int64\n",
      "EXITS                                                                   413440 non-null int64\n",
      "dtypes: int64(2), object(9)\n",
      "memory usage: 34.7+ MB\n"
     ]
    }
   ],
   "source": [
    "turnstile.info()"
   ]
  },
  {
   "cell_type": "markdown",
   "metadata": {},
   "source": [
    "## II. Data Cleansing"
   ]
  },
  {
   "cell_type": "markdown",
   "metadata": {},
   "source": [
    "### 1. Clean Column Names"
   ]
  },
  {
   "cell_type": "code",
   "execution_count": 6,
   "metadata": {},
   "outputs": [
    {
     "data": {
      "text/plain": [
       "Index(['C/A', 'UNIT', 'SCP', 'STATION', 'LINENAME', 'DIVISION', 'DATE', 'TIME',\n",
       "       'DESC', 'ENTRIES', 'EXITS'],\n",
       "      dtype='object')"
      ]
     },
     "execution_count": 6,
     "metadata": {},
     "output_type": "execute_result"
    }
   ],
   "source": [
    "turnstile.columns=[col.strip() for col in turnstile.columns]\n",
    "turnstile.columns"
   ]
  },
  {
   "cell_type": "markdown",
   "metadata": {},
   "source": [
    "### 2. Remove Inconsistent Text"
   ]
  },
  {
   "cell_type": "code",
   "execution_count": 7,
   "metadata": {},
   "outputs": [],
   "source": [
    "#station name cleansing\n",
    "#the strip() removes characters from both left and right based on the argument\n",
    "turnstile['STATION']=[name.strip() for name in turnstile.STATION]\n",
    "turnstile['STATION'] = turnstile['STATION'].str.replace('STREET', 'ST')\n",
    "turnstile['STATION'] = turnstile['STATION'].str.replace('AVE', 'AV')"
   ]
  },
  {
   "cell_type": "markdown",
   "metadata": {},
   "source": [
    "### 3. Change DataType to DateTime"
   ]
  },
  {
   "cell_type": "code",
   "execution_count": 8,
   "metadata": {},
   "outputs": [
    {
     "data": {
      "text/html": [
       "<div>\n",
       "<style scoped>\n",
       "    .dataframe tbody tr th:only-of-type {\n",
       "        vertical-align: middle;\n",
       "    }\n",
       "\n",
       "    .dataframe tbody tr th {\n",
       "        vertical-align: top;\n",
       "    }\n",
       "\n",
       "    .dataframe thead th {\n",
       "        text-align: right;\n",
       "    }\n",
       "</style>\n",
       "<table border=\"1\" class=\"dataframe\">\n",
       "  <thead>\n",
       "    <tr style=\"text-align: right;\">\n",
       "      <th></th>\n",
       "      <th>C/A</th>\n",
       "      <th>UNIT</th>\n",
       "      <th>SCP</th>\n",
       "      <th>STATION</th>\n",
       "      <th>LINENAME</th>\n",
       "      <th>DIVISION</th>\n",
       "      <th>DATE</th>\n",
       "      <th>TIME</th>\n",
       "      <th>DESC</th>\n",
       "      <th>ENTRIES</th>\n",
       "      <th>EXITS</th>\n",
       "      <th>DATE &amp; TIME</th>\n",
       "    </tr>\n",
       "  </thead>\n",
       "  <tbody>\n",
       "    <tr>\n",
       "      <th>0</th>\n",
       "      <td>A002</td>\n",
       "      <td>R051</td>\n",
       "      <td>02-00-00</td>\n",
       "      <td>59 ST</td>\n",
       "      <td>NQR456W</td>\n",
       "      <td>BMT</td>\n",
       "      <td>06/22/2019</td>\n",
       "      <td>00:00:00</td>\n",
       "      <td>REGULAR</td>\n",
       "      <td>7107725</td>\n",
       "      <td>2407457</td>\n",
       "      <td>06/22/2019 00:00:00</td>\n",
       "    </tr>\n",
       "    <tr>\n",
       "      <th>1</th>\n",
       "      <td>A002</td>\n",
       "      <td>R051</td>\n",
       "      <td>02-00-00</td>\n",
       "      <td>59 ST</td>\n",
       "      <td>NQR456W</td>\n",
       "      <td>BMT</td>\n",
       "      <td>06/22/2019</td>\n",
       "      <td>04:00:00</td>\n",
       "      <td>REGULAR</td>\n",
       "      <td>7107738</td>\n",
       "      <td>2407465</td>\n",
       "      <td>06/22/2019 04:00:00</td>\n",
       "    </tr>\n",
       "    <tr>\n",
       "      <th>2</th>\n",
       "      <td>A002</td>\n",
       "      <td>R051</td>\n",
       "      <td>02-00-00</td>\n",
       "      <td>59 ST</td>\n",
       "      <td>NQR456W</td>\n",
       "      <td>BMT</td>\n",
       "      <td>06/22/2019</td>\n",
       "      <td>08:00:00</td>\n",
       "      <td>REGULAR</td>\n",
       "      <td>7107761</td>\n",
       "      <td>2407491</td>\n",
       "      <td>06/22/2019 08:00:00</td>\n",
       "    </tr>\n",
       "    <tr>\n",
       "      <th>3</th>\n",
       "      <td>A002</td>\n",
       "      <td>R051</td>\n",
       "      <td>02-00-00</td>\n",
       "      <td>59 ST</td>\n",
       "      <td>NQR456W</td>\n",
       "      <td>BMT</td>\n",
       "      <td>06/22/2019</td>\n",
       "      <td>12:00:00</td>\n",
       "      <td>REGULAR</td>\n",
       "      <td>7107858</td>\n",
       "      <td>2407541</td>\n",
       "      <td>06/22/2019 12:00:00</td>\n",
       "    </tr>\n",
       "    <tr>\n",
       "      <th>4</th>\n",
       "      <td>A002</td>\n",
       "      <td>R051</td>\n",
       "      <td>02-00-00</td>\n",
       "      <td>59 ST</td>\n",
       "      <td>NQR456W</td>\n",
       "      <td>BMT</td>\n",
       "      <td>06/22/2019</td>\n",
       "      <td>16:00:00</td>\n",
       "      <td>REGULAR</td>\n",
       "      <td>7108075</td>\n",
       "      <td>2407581</td>\n",
       "      <td>06/22/2019 16:00:00</td>\n",
       "    </tr>\n",
       "  </tbody>\n",
       "</table>\n",
       "</div>"
      ],
      "text/plain": [
       "    C/A  UNIT       SCP STATION LINENAME DIVISION        DATE      TIME  \\\n",
       "0  A002  R051  02-00-00   59 ST  NQR456W      BMT  06/22/2019  00:00:00   \n",
       "1  A002  R051  02-00-00   59 ST  NQR456W      BMT  06/22/2019  04:00:00   \n",
       "2  A002  R051  02-00-00   59 ST  NQR456W      BMT  06/22/2019  08:00:00   \n",
       "3  A002  R051  02-00-00   59 ST  NQR456W      BMT  06/22/2019  12:00:00   \n",
       "4  A002  R051  02-00-00   59 ST  NQR456W      BMT  06/22/2019  16:00:00   \n",
       "\n",
       "      DESC  ENTRIES    EXITS          DATE & TIME  \n",
       "0  REGULAR  7107725  2407457  06/22/2019 00:00:00  \n",
       "1  REGULAR  7107738  2407465  06/22/2019 04:00:00  \n",
       "2  REGULAR  7107761  2407491  06/22/2019 08:00:00  \n",
       "3  REGULAR  7107858  2407541  06/22/2019 12:00:00  \n",
       "4  REGULAR  7108075  2407581  06/22/2019 16:00:00  "
      ]
     },
     "execution_count": 8,
     "metadata": {},
     "output_type": "execute_result"
    }
   ],
   "source": [
    "turnstile['DATE & TIME']=turnstile['DATE'] +' '+ turnstile['TIME']\n",
    "turnstile.head()"
   ]
  },
  {
   "cell_type": "code",
   "execution_count": 9,
   "metadata": {},
   "outputs": [],
   "source": [
    "turnstile['DATE & TIME'] = pd.to_datetime(turnstile['DATE & TIME'])"
   ]
  },
  {
   "cell_type": "code",
   "execution_count": 10,
   "metadata": {},
   "outputs": [],
   "source": [
    "turnstile['DAY OF WEEK']=turnstile['DATE & TIME'].dt.day_name()"
   ]
  },
  {
   "cell_type": "markdown",
   "metadata": {},
   "source": [
    "### 4. Data Disaggregation "
   ]
  },
  {
   "cell_type": "code",
   "execution_count": 11,
   "metadata": {},
   "outputs": [],
   "source": [
    "#Since the entry data we have is cumulative, \n",
    "#we want to combine ControlArea/UNIT/STATION together\n",
    "#and calculate the actual numbers of entries per turnstile\n",
    "#for each day, add the counts from each turnstile belonging to that combo.\n",
    "turnstile['ENTRIES DIFF']=turnstile.groupby(['C/A','UNIT','STATION'])['ENTRIES'].diff()\n",
    "turnstile['EXITS DIFF']=turnstile.groupby(['C/A','UNIT','STATION'])['EXITS'].diff()"
   ]
  },
  {
   "cell_type": "code",
   "execution_count": 174,
   "metadata": {},
   "outputs": [
    {
     "data": {
      "text/plain": [
       "C/A             10754\n",
       "UNIT            10754\n",
       "SCP             10754\n",
       "STATION         10754\n",
       "LINENAME        10754\n",
       "DIVISION        10754\n",
       "DATE            10754\n",
       "TIME            10754\n",
       "DESC            10754\n",
       "ENTRIES         10754\n",
       "EXITS           10754\n",
       "DATE & TIME     10754\n",
       "DAY OF WEEK     10754\n",
       "ENTRIES DIFF    10754\n",
       "EXITS DIFF      10754\n",
       "dtype: int64"
      ]
     },
     "execution_count": 174,
     "metadata": {},
     "output_type": "execute_result"
    }
   ],
   "source": [
    "#check how many nan and negative entry numbers do we have in total\n",
    "turnstile[(turnstile['ENTRIES DIFF']<0) | (turnstile['EXITS DIFF']<0)].count()"
   ]
  },
  {
   "cell_type": "code",
   "execution_count": 175,
   "metadata": {},
   "outputs": [
    {
     "data": {
      "text/plain": [
       "C/A               0\n",
       "UNIT              0\n",
       "SCP               0\n",
       "STATION           0\n",
       "LINENAME          0\n",
       "DIVISION          0\n",
       "DATE              0\n",
       "TIME              0\n",
       "DESC              0\n",
       "ENTRIES           0\n",
       "EXITS             0\n",
       "DATE & TIME       0\n",
       "DAY OF WEEK       0\n",
       "ENTRIES DIFF    746\n",
       "EXITS DIFF      746\n",
       "dtype: int64"
      ]
     },
     "execution_count": 175,
     "metadata": {},
     "output_type": "execute_result"
    }
   ],
   "source": [
    "turnstile.isna().sum()"
   ]
  },
  {
   "cell_type": "code",
   "execution_count": 12,
   "metadata": {},
   "outputs": [],
   "source": [
    "#The total number of negative entries and na entries \n",
    "#is small, so we can drop them\n",
    "turnstile=turnstile.drop(turnstile[turnstile['ENTRIES DIFF'] < 0].index)\n",
    "turnstile=turnstile.drop(turnstile[turnstile['EXITS DIFF'] < 0].index)\n",
    "turnstile=turnstile.dropna()"
   ]
  },
  {
   "cell_type": "code",
   "execution_count": 13,
   "metadata": {},
   "outputs": [],
   "source": [
    "#We can now remove the culmulative entries and exits data\n",
    "turnstile=turnstile.drop(['ENTRIES','EXITS'],axis=1)"
   ]
  },
  {
   "cell_type": "markdown",
   "metadata": {},
   "source": [
    "### 5. Remove Outliners"
   ]
  },
  {
   "cell_type": "code",
   "execution_count": 236,
   "metadata": {},
   "outputs": [
    {
     "data": {
      "text/html": [
       "<div>\n",
       "<style scoped>\n",
       "    .dataframe tbody tr th:only-of-type {\n",
       "        vertical-align: middle;\n",
       "    }\n",
       "\n",
       "    .dataframe tbody tr th {\n",
       "        vertical-align: top;\n",
       "    }\n",
       "\n",
       "    .dataframe thead th {\n",
       "        text-align: right;\n",
       "    }\n",
       "</style>\n",
       "<table border=\"1\" class=\"dataframe\">\n",
       "  <thead>\n",
       "    <tr style=\"text-align: right;\">\n",
       "      <th></th>\n",
       "      <th>ENTRIES DIFF</th>\n",
       "      <th>EXITS DIFF</th>\n",
       "    </tr>\n",
       "  </thead>\n",
       "  <tbody>\n",
       "    <tr>\n",
       "      <th>count</th>\n",
       "      <td>7.852530e+05</td>\n",
       "      <td>7.852530e+05</td>\n",
       "    </tr>\n",
       "    <tr>\n",
       "      <th>mean</th>\n",
       "      <td>7.553194e+05</td>\n",
       "      <td>6.394294e+05</td>\n",
       "    </tr>\n",
       "    <tr>\n",
       "      <th>std</th>\n",
       "      <td>3.006507e+07</td>\n",
       "      <td>2.733767e+07</td>\n",
       "    </tr>\n",
       "    <tr>\n",
       "      <th>min</th>\n",
       "      <td>0.000000e+00</td>\n",
       "      <td>0.000000e+00</td>\n",
       "    </tr>\n",
       "    <tr>\n",
       "      <th>25%</th>\n",
       "      <td>1.000000e+01</td>\n",
       "      <td>8.000000e+00</td>\n",
       "    </tr>\n",
       "    <tr>\n",
       "      <th>50%</th>\n",
       "      <td>7.500000e+01</td>\n",
       "      <td>5.300000e+01</td>\n",
       "    </tr>\n",
       "    <tr>\n",
       "      <th>75%</th>\n",
       "      <td>2.440000e+02</td>\n",
       "      <td>1.690000e+02</td>\n",
       "    </tr>\n",
       "    <tr>\n",
       "      <th>max</th>\n",
       "      <td>2.122126e+09</td>\n",
       "      <td>2.118643e+09</td>\n",
       "    </tr>\n",
       "  </tbody>\n",
       "</table>\n",
       "</div>"
      ],
      "text/plain": [
       "       ENTRIES DIFF    EXITS DIFF\n",
       "count  7.852530e+05  7.852530e+05\n",
       "mean   7.553194e+05  6.394294e+05\n",
       "std    3.006507e+07  2.733767e+07\n",
       "min    0.000000e+00  0.000000e+00\n",
       "25%    1.000000e+01  8.000000e+00\n",
       "50%    7.500000e+01  5.300000e+01\n",
       "75%    2.440000e+02  1.690000e+02\n",
       "max    2.122126e+09  2.118643e+09"
      ]
     },
     "execution_count": 236,
     "metadata": {},
     "output_type": "execute_result"
    }
   ],
   "source": [
    "turnstile.describe()"
   ]
  },
  {
   "cell_type": "code",
   "execution_count": 179,
   "metadata": {},
   "outputs": [
    {
     "data": {
      "text/plain": [
       "<matplotlib.axes._subplots.AxesSubplot at 0x1a32795ba8>"
      ]
     },
     "execution_count": 179,
     "metadata": {},
     "output_type": "execute_result"
    },
    {
     "data": {
      "image/png": "[encoded data removed]",
      "text/plain": [
       "<Figure size 432x288 with 1 Axes>"
      ]
     },
     "metadata": {
      "needs_background": "light"
     },
     "output_type": "display_data"
    }
   ],
   "source": [
    "sns.boxplot(turnstile['ENTRIES DIFF'],orient='v')"
   ]
  },
  {
   "cell_type": "code",
   "execution_count": 14,
   "metadata": {},
   "outputs": [
    {
     "data": {
      "text/plain": [
       "232.0"
      ]
     },
     "execution_count": 14,
     "metadata": {},
     "output_type": "execute_result"
    }
   ],
   "source": [
    "q25_1,q50_1,q75_1=np.percentile(turnstile['ENTRIES DIFF'],[25,50,75])\n",
    "iqr_1=q75_1-q25_1\n",
    "iqr_1"
   ]
  },
  {
   "cell_type": "code",
   "execution_count": 15,
   "metadata": {},
   "outputs": [
    {
     "data": {
      "text/plain": [
       "162.0"
      ]
     },
     "execution_count": 15,
     "metadata": {},
     "output_type": "execute_result"
    }
   ],
   "source": [
    "q25_2,q50_2,q75_2=np.percentile(turnstile['EXITS DIFF'],[25,50,75])\n",
    "iqr_2=q75_2-q25_2\n",
    "iqr_2"
   ]
  },
  {
   "cell_type": "code",
   "execution_count": 16,
   "metadata": {},
   "outputs": [],
   "source": [
    "max_entry=q75_1+1.5*(iqr_1)\n",
    "max_exit=q75_2+1.5*(iqr_2)"
   ]
  },
  {
   "cell_type": "code",
   "execution_count": 17,
   "metadata": {},
   "outputs": [
    {
     "data": {
      "text/plain": [
       "C/A             73367\n",
       "UNIT            73367\n",
       "SCP             73367\n",
       "STATION         73367\n",
       "LINENAME        73367\n",
       "DIVISION        73367\n",
       "DATE            73367\n",
       "TIME            73367\n",
       "DESC            73367\n",
       "DATE & TIME     73367\n",
       "DAY OF WEEK     73367\n",
       "ENTRIES DIFF    73367\n",
       "EXITS DIFF      73367\n",
       "dtype: int64"
      ]
     },
     "execution_count": 17,
     "metadata": {},
     "output_type": "execute_result"
    }
   ],
   "source": [
    "#calculate how many outliner do we have in entry data\n",
    "turnstile[turnstile['ENTRIES DIFF']> max_entry].count()"
   ]
  },
  {
   "cell_type": "code",
   "execution_count": 18,
   "metadata": {},
   "outputs": [
    {
     "data": {
      "text/plain": [
       "C/A             90133\n",
       "UNIT            90133\n",
       "SCP             90133\n",
       "STATION         90133\n",
       "LINENAME        90133\n",
       "DIVISION        90133\n",
       "DATE            90133\n",
       "TIME            90133\n",
       "DESC            90133\n",
       "DATE & TIME     90133\n",
       "DAY OF WEEK     90133\n",
       "ENTRIES DIFF    90133\n",
       "EXITS DIFF      90133\n",
       "dtype: int64"
      ]
     },
     "execution_count": 18,
     "metadata": {},
     "output_type": "execute_result"
    }
   ],
   "source": [
    "#calculate how many outliner do we have in exit data\n",
    "turnstile[turnstile['EXITS DIFF']> max_exit].count()"
   ]
  },
  {
   "cell_type": "code",
   "execution_count": 19,
   "metadata": {},
   "outputs": [],
   "source": [
    "turnstile=turnstile.drop(turnstile[turnstile['ENTRIES DIFF']>max_entry].index)\n",
    "turnstile=turnstile.drop(turnstile[turnstile['EXITS DIFF']>max_exit].index)"
   ]
  },
  {
   "cell_type": "markdown",
   "metadata": {},
   "source": [
    "### 6. Add WEEK OF THE YEAR column"
   ]
  },
  {
   "cell_type": "code",
   "execution_count": 20,
   "metadata": {},
   "outputs": [],
   "source": [
    "turnstile['WEEK OF YEAR']=turnstile['DATE & TIME'].dt.week\n",
    "turnstile['YEAR']=turnstile['DATE & TIME'].dt.year"
   ]
  },
  {
   "cell_type": "code",
   "execution_count": 21,
   "metadata": {},
   "outputs": [
    {
     "data": {
      "text/plain": [
       "WEEK OF YEAR  YEAR\n",
       "21            2019     3334794.0\n",
       "22            2019    12998001.0\n",
       "23            2019    13567677.0\n",
       "24            2019    13417324.0\n",
       "25            2019    13516741.0\n",
       "26            2019    10320730.0\n",
       "Name: EXITS DIFF, dtype: float64"
      ]
     },
     "execution_count": 21,
     "metadata": {},
     "output_type": "execute_result"
    }
   ],
   "source": [
    "turnstile.groupby(['WEEK OF YEAR','YEAR'])['EXITS DIFF'].sum()"
   ]
  },
  {
   "cell_type": "markdown",
   "metadata": {},
   "source": [
    "## III. Data Analysis/Visualization"
   ]
  },
  {
   "cell_type": "markdown",
   "metadata": {},
   "source": [
    "1. Total Daily Entries per DAY OF WEEK\n",
    "\n",
    "From the result, we can have a general idea about which\n",
    "day of the week have the most total entries. "
   ]
  },
  {
   "cell_type": "code",
   "execution_count": 186,
   "metadata": {},
   "outputs": [
    {
     "data": {
      "text/html": [
       "<div>\n",
       "<style scoped>\n",
       "    .dataframe tbody tr th:only-of-type {\n",
       "        vertical-align: middle;\n",
       "    }\n",
       "\n",
       "    .dataframe tbody tr th {\n",
       "        vertical-align: top;\n",
       "    }\n",
       "\n",
       "    .dataframe thead th {\n",
       "        text-align: right;\n",
       "    }\n",
       "</style>\n",
       "<table border=\"1\" class=\"dataframe\">\n",
       "  <thead>\n",
       "    <tr style=\"text-align: right;\">\n",
       "      <th></th>\n",
       "      <th>DATE</th>\n",
       "      <th>TOTAL ENTRIES per DAY</th>\n",
       "    </tr>\n",
       "  </thead>\n",
       "  <tbody>\n",
       "    <tr>\n",
       "      <th>6</th>\n",
       "      <td>06/21/2019</td>\n",
       "      <td>3185693.0</td>\n",
       "    </tr>\n",
       "    <tr>\n",
       "      <th>13</th>\n",
       "      <td>06/28/2019</td>\n",
       "      <td>3157133.0</td>\n",
       "    </tr>\n",
       "    <tr>\n",
       "      <th>12</th>\n",
       "      <td>06/27/2019</td>\n",
       "      <td>3080544.0</td>\n",
       "    </tr>\n",
       "    <tr>\n",
       "      <th>11</th>\n",
       "      <td>06/26/2019</td>\n",
       "      <td>3048125.0</td>\n",
       "    </tr>\n",
       "    <tr>\n",
       "      <th>10</th>\n",
       "      <td>06/25/2019</td>\n",
       "      <td>3047638.0</td>\n",
       "    </tr>\n",
       "    <tr>\n",
       "      <th>5</th>\n",
       "      <td>06/20/2019</td>\n",
       "      <td>3045272.0</td>\n",
       "    </tr>\n",
       "    <tr>\n",
       "      <th>3</th>\n",
       "      <td>06/18/2019</td>\n",
       "      <td>3038022.0</td>\n",
       "    </tr>\n",
       "    <tr>\n",
       "      <th>4</th>\n",
       "      <td>06/19/2019</td>\n",
       "      <td>3016468.0</td>\n",
       "    </tr>\n",
       "    <tr>\n",
       "      <th>9</th>\n",
       "      <td>06/24/2019</td>\n",
       "      <td>2986984.0</td>\n",
       "    </tr>\n",
       "    <tr>\n",
       "      <th>2</th>\n",
       "      <td>06/17/2019</td>\n",
       "      <td>2920861.0</td>\n",
       "    </tr>\n",
       "    <tr>\n",
       "      <th>8</th>\n",
       "      <td>06/23/2019</td>\n",
       "      <td>2310985.0</td>\n",
       "    </tr>\n",
       "    <tr>\n",
       "      <th>1</th>\n",
       "      <td>06/16/2019</td>\n",
       "      <td>2176676.0</td>\n",
       "    </tr>\n",
       "    <tr>\n",
       "      <th>7</th>\n",
       "      <td>06/22/2019</td>\n",
       "      <td>2140618.0</td>\n",
       "    </tr>\n",
       "    <tr>\n",
       "      <th>0</th>\n",
       "      <td>06/15/2019</td>\n",
       "      <td>2121870.0</td>\n",
       "    </tr>\n",
       "  </tbody>\n",
       "</table>\n",
       "</div>"
      ],
      "text/plain": [
       "          DATE  TOTAL ENTRIES per DAY\n",
       "6   06/21/2019              3185693.0\n",
       "13  06/28/2019              3157133.0\n",
       "12  06/27/2019              3080544.0\n",
       "11  06/26/2019              3048125.0\n",
       "10  06/25/2019              3047638.0\n",
       "5   06/20/2019              3045272.0\n",
       "3   06/18/2019              3038022.0\n",
       "4   06/19/2019              3016468.0\n",
       "9   06/24/2019              2986984.0\n",
       "2   06/17/2019              2920861.0\n",
       "8   06/23/2019              2310985.0\n",
       "1   06/16/2019              2176676.0\n",
       "7   06/22/2019              2140618.0\n",
       "0   06/15/2019              2121870.0"
      ]
     },
     "execution_count": 186,
     "metadata": {},
     "output_type": "execute_result"
    }
   ],
   "source": [
    "turnstile.groupby(['DATE'])['ENTRIES DIFF']\\\n",
    "     .sum()\\\n",
    "     .reset_index(name='TOTAL ENTRIES per DAY')\\\n",
    "     .sort_values(['TOTAL ENTRIES per DAY'], ascending=False)"
   ]
  },
  {
   "cell_type": "markdown",
   "metadata": {},
   "source": [
    "2. Total Entries per Station\n",
    "\n",
    "This gives us an idea of which stations are the top 10 most busiest stations. \n",
    "\n",
    "Need a plot here"
   ]
  },
  {
   "cell_type": "code",
   "execution_count": 90,
   "metadata": {},
   "outputs": [
    {
     "data": {
      "text/html": [
       "<div>\n",
       "<style scoped>\n",
       "    .dataframe tbody tr th:only-of-type {\n",
       "        vertical-align: middle;\n",
       "    }\n",
       "\n",
       "    .dataframe tbody tr th {\n",
       "        vertical-align: top;\n",
       "    }\n",
       "\n",
       "    .dataframe thead th {\n",
       "        text-align: right;\n",
       "    }\n",
       "</style>\n",
       "<table border=\"1\" class=\"dataframe\">\n",
       "  <thead>\n",
       "    <tr style=\"text-align: right;\">\n",
       "      <th></th>\n",
       "      <th>STATION</th>\n",
       "      <th>TOTAL ENTRIES per Station</th>\n",
       "    </tr>\n",
       "  </thead>\n",
       "  <tbody>\n",
       "    <tr>\n",
       "      <th>61</th>\n",
       "      <td>34 ST-PENN STA</td>\n",
       "      <td>2216636.0</td>\n",
       "    </tr>\n",
       "    <tr>\n",
       "      <th>46</th>\n",
       "      <td>23 ST</td>\n",
       "      <td>1597704.0</td>\n",
       "    </tr>\n",
       "    <tr>\n",
       "      <th>225</th>\n",
       "      <td>FULTON ST</td>\n",
       "      <td>1550122.0</td>\n",
       "    </tr>\n",
       "    <tr>\n",
       "      <th>110</th>\n",
       "      <td>86 ST</td>\n",
       "      <td>1368363.0</td>\n",
       "    </tr>\n",
       "    <tr>\n",
       "      <th>9</th>\n",
       "      <td>125 ST</td>\n",
       "      <td>1173027.0</td>\n",
       "    </tr>\n",
       "    <tr>\n",
       "      <th>68</th>\n",
       "      <td>42 ST-PORT AUTH</td>\n",
       "      <td>1171630.0</td>\n",
       "    </tr>\n",
       "    <tr>\n",
       "      <th>85</th>\n",
       "      <td>59 ST</td>\n",
       "      <td>1067096.0</td>\n",
       "    </tr>\n",
       "    <tr>\n",
       "      <th>172</th>\n",
       "      <td>CANAL ST</td>\n",
       "      <td>1050645.0</td>\n",
       "    </tr>\n",
       "    <tr>\n",
       "      <th>352</th>\n",
       "      <td>TIMES SQ-42 ST</td>\n",
       "      <td>1021838.0</td>\n",
       "    </tr>\n",
       "    <tr>\n",
       "      <th>124</th>\n",
       "      <td>ATL AV-BARCLAY</td>\n",
       "      <td>1008110.0</td>\n",
       "    </tr>\n",
       "  </tbody>\n",
       "</table>\n",
       "</div>"
      ],
      "text/plain": [
       "             STATION  TOTAL ENTRIES per Station\n",
       "61    34 ST-PENN STA                  2216636.0\n",
       "46             23 ST                  1597704.0\n",
       "225        FULTON ST                  1550122.0\n",
       "110            86 ST                  1368363.0\n",
       "9             125 ST                  1173027.0\n",
       "68   42 ST-PORT AUTH                  1171630.0\n",
       "85             59 ST                  1067096.0\n",
       "172         CANAL ST                  1050645.0\n",
       "352   TIMES SQ-42 ST                  1021838.0\n",
       "124   ATL AV-BARCLAY                  1008110.0"
      ]
     },
     "execution_count": 90,
     "metadata": {},
     "output_type": "execute_result"
    }
   ],
   "source": [
    "turnstile.groupby(['STATION'])['ENTRIES DIFF']\\\n",
    "     .sum()\\\n",
    "     .reset_index(name='TOTAL ENTRIES per Station')\\\n",
    "     .sort_values(['TOTAL ENTRIES per Station'], ascending=False)\\\n",
    "     .head(10)"
   ]
  },
  {
   "cell_type": "markdown",
   "metadata": {},
   "source": [
    "3. Make one list of counts for one week for one station. Monday's count, Tuesday's count, etc. so it's a list of 7 counts. Make the same list for another week, and another week, and another week. plt.plot(week_count_list) for every week_count_list you created this way. You should get a rainbow plot of weekly commute numbers on top of each other."
   ]
  },
  {
   "cell_type": "code",
   "execution_count": 80,
   "metadata": {
    "scrolled": true
   },
   "outputs": [],
   "source": [
    "df=turnstile.groupby(['STATION','DAY OF WEEK'])['ENTRIES DIFF']\\\n",
    "     .sum()\\\n",
    "     .reset_index(name='TOTAL ENTRIES per DAY')"
   ]
  },
  {
   "cell_type": "code",
   "execution_count": 94,
   "metadata": {},
   "outputs": [
    {
     "data": {
      "text/html": [
       "<div>\n",
       "<style scoped>\n",
       "    .dataframe tbody tr th:only-of-type {\n",
       "        vertical-align: middle;\n",
       "    }\n",
       "\n",
       "    .dataframe tbody tr th {\n",
       "        vertical-align: top;\n",
       "    }\n",
       "\n",
       "    .dataframe thead th {\n",
       "        text-align: right;\n",
       "    }\n",
       "</style>\n",
       "<table border=\"1\" class=\"dataframe\">\n",
       "  <thead>\n",
       "    <tr style=\"text-align: right;\">\n",
       "      <th></th>\n",
       "      <th></th>\n",
       "      <th>TOTAL ENTRIES per DAY</th>\n",
       "    </tr>\n",
       "    <tr>\n",
       "      <th>STATION</th>\n",
       "      <th>DAY OF WEEK</th>\n",
       "      <th></th>\n",
       "    </tr>\n",
       "  </thead>\n",
       "  <tbody>\n",
       "    <tr>\n",
       "      <th rowspan=\"5\" valign=\"top\">34 ST-PENN STA</th>\n",
       "      <th>Friday</th>\n",
       "      <td>343617.0</td>\n",
       "    </tr>\n",
       "    <tr>\n",
       "      <th>Monday</th>\n",
       "      <td>333018.0</td>\n",
       "    </tr>\n",
       "    <tr>\n",
       "      <th>Tuesday</th>\n",
       "      <td>320301.0</td>\n",
       "    </tr>\n",
       "    <tr>\n",
       "      <th>Wednesday</th>\n",
       "      <td>317507.0</td>\n",
       "    </tr>\n",
       "    <tr>\n",
       "      <th>Thursday</th>\n",
       "      <td>316144.0</td>\n",
       "    </tr>\n",
       "  </tbody>\n",
       "</table>\n",
       "</div>"
      ],
      "text/plain": [
       "                            TOTAL ENTRIES per DAY\n",
       "STATION        DAY OF WEEK                       \n",
       "34 ST-PENN STA Friday                    343617.0\n",
       "               Monday                    333018.0\n",
       "               Tuesday                   320301.0\n",
       "               Wednesday                 317507.0\n",
       "               Thursday                  316144.0"
      ]
     },
     "execution_count": 94,
     "metadata": {},
     "output_type": "execute_result"
    }
   ],
   "source": [
    "station_day = ['STATION', 'DAY OF WEEK']\n",
    "station_day_df = (df.set_index(week_day)  \n",
    "                           .sort_index()\n",
    "                           .sort_values(['TOTAL ENTRIES per DAY'], ascending=False))\n",
    "station_day_df.head()"
   ]
  },
  {
   "cell_type": "code",
   "execution_count": 93,
   "metadata": {},
   "outputs": [],
   "source": [
    "from pylab import rcParams\n",
    "# rcParams['figure.figsize'] = 5, 10\n",
    "# station_day_df.unstack(level=0).plot(kind='line',figsize=(100, 100), subplots=True);"
   ]
  },
  {
   "cell_type": "code",
   "execution_count": 115,
   "metadata": {},
   "outputs": [],
   "source": [
    "df_34_ST_PENN_STA = station_day_df.loc['34 ST-PENN STA']\n",
    "df_23_ST = station_day_df.loc['23 ST']\n",
    "df_FULTON_ST = station_day_df.loc['FULTON ST']\n",
    "df_86_ST = station_day_df.loc['86 ST']\n",
    "df_125_ST = station_day_df.loc['125 ST']\n",
    "df_42_ST_PORT_AUTH = station_day_df.loc['42 ST-PORT AUTH']"
   ]
  },
  {
   "cell_type": "code",
   "execution_count": 136,
   "metadata": {},
   "outputs": [
    {
     "data": {
      "image/png": "[encoded data removed]",
      "text/plain": [
       "<Figure size 1656x1080 with 6 Axes>"
      ]
     },
     "metadata": {
      "needs_background": "light"
     },
     "output_type": "display_data"
    }
   ],
   "source": [
    "plt.figure(figsize=[23,15])\n",
    "plt.subplot(3,3,1)\n",
    "plt.plot(df_34ST_PENN_STA)\n",
    "plt.title('34ST_PENN_STA')\n",
    "\n",
    "plt.subplot(3,3,2)\n",
    "plt.plot(df_23_ST)\n",
    "plt.title('23_ST')\n",
    "\n",
    "plt.subplot(3,3,3)\n",
    "plt.plot(df_FULTON_ST)\n",
    "plt.title('FULTON_ST')\n",
    "\n",
    "plt.subplot(3,3,4)\n",
    "plt.plot(df_86_ST)\n",
    "plt.title('86_ST')\n",
    "\n",
    "plt.subplot(3,3,5)\n",
    "plt.plot(df_125_ST)\n",
    "plt.title('125_ST')\n",
    "\n",
    "plt.subplot(3,3,6)\n",
    "plt.plot(df_42_ST_PORT_AUTH)\n",
    "plt.title('42_ST_PORT_AUTH');\n",
    "#Question: Is it possible to change the x axis to be the same for each graph. or is it "
   ]
  },
  {
   "cell_type": "code",
   "execution_count": null,
   "metadata": {},
   "outputs": [],
   "source": []
  },
  {
   "cell_type": "code",
   "execution_count": null,
   "metadata": {},
   "outputs": [],
   "source": []
  },
  {
   "cell_type": "code",
   "execution_count": null,
   "metadata": {},
   "outputs": [],
   "source": []
  },
  {
   "cell_type": "code",
   "execution_count": null,
   "metadata": {},
   "outputs": [],
   "source": []
  },
  {
   "cell_type": "code",
   "execution_count": null,
   "metadata": {},
   "outputs": [],
   "source": []
  },
  {
   "cell_type": "code",
   "execution_count": null,
   "metadata": {},
   "outputs": [],
   "source": []
  },
  {
   "cell_type": "code",
   "execution_count": null,
   "metadata": {},
   "outputs": [],
   "source": []
  }
 ],
 "metadata": {
  "kernelspec": {
   "display_name": "Python 3",
   "language": "python",
   "name": "python3"
  },
  "language_info": {
   "codemirror_mode": {
    "name": "ipython",
    "version": 3
   },
   "file_extension": ".py",
   "mimetype": "text/x-python",
   "name": "python",
   "nbconvert_exporter": "python",
   "pygments_lexer": "ipython3",
   "version": "3.7.3"
  }
 },
 "nbformat": 4,
 "nbformat_minor": 2
}
