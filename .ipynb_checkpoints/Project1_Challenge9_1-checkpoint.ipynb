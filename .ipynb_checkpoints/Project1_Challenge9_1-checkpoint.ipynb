{
 "cells": [
  {
   "cell_type": "code",
   "execution_count": 3,
   "metadata": {},
   "outputs": [],
   "source": [
    "import pandas as pd\n",
    "from datetime import datetime\n",
    "import csv\n",
    "import urllib.request\n",
    "import codecs"
   ]
  },
  {
   "cell_type": "code",
   "execution_count": 4,
   "metadata": {},
   "outputs": [],
   "source": [
    "pd.set_option('display.max_columns', None)\n",
    "pd.set_option('display.max_rows', 25)\n",
    "pd.set_option('display.precision', 3)"
   ]
  },
  {
   "cell_type": "code",
   "execution_count": 5,
   "metadata": {},
   "outputs": [],
   "source": [
    "# Copy desired dates from website: http://web.mta.info/developers/turnstile.html\n",
    "raw_dates_txt = \"\"\"\n",
    "Saturday, January 12, 2019\n",
    "Saturday, January 05, 2019\n",
    "\"\"\"\n"
   ]
  },
  {
   "cell_type": "markdown",
   "metadata": {},
   "source": [
    "### Creates 'turnstile_data' file and saves to project folder"
   ]
  },
  {
   "cell_type": "code",
   "execution_count": 6,
   "metadata": {},
   "outputs": [],
   "source": [
    "date_obj_lst = [datetime.strftime(datetime.strptime(line, '%A, %B %d, %Y'), '%y%m%d') for line in raw_dates_txt.split('\\n') if line]\n",
    "    \n",
    "turnstile_url = ['http://web.mta.info/developers/data/nyct/turnstile/turnstile_' + date + '.txt' for date in date_obj_lst]\n",
    "\n",
    "with open('turnstile_data', 'w') as outfile:\n",
    "    writer = csv.writer(outfile, delimiter=',')\n",
    "    ftpstream = urllib.request.urlopen(turnstile_url[0])\n",
    "    csvfile = csv.reader(codecs.iterdecode(ftpstream, 'utf-8'))\n",
    "    for line in csvfile:\n",
    "        writer.writerow(line)    \n",
    "    for url in turnstile_url[1:]:\n",
    "        ftpstream = urllib.request.urlopen(url)\n",
    "        csvfile = csv.reader(codecs.iterdecode(ftpstream, 'utf-8'))\n",
    "        firstline = True\n",
    "        for line in csvfile:\n",
    "            if firstline:    #skip first line\n",
    "                firstline = False\n",
    "                continue\n",
    "            writer.writerow(line)"
   ]
  },
  {
   "cell_type": "code",
   "execution_count": 7,
   "metadata": {},
   "outputs": [],
   "source": [
    "with open('turnstile_data') as input:\n",
    "    Jan05 = pd.read_csv(input)"
   ]
  },
  {
   "cell_type": "code",
   "execution_count": null,
   "metadata": {},
   "outputs": [],
   "source": []
  },
  {
   "cell_type": "code",
   "execution_count": 8,
   "metadata": {},
   "outputs": [
    {
     "data": {
      "text/plain": [
       "Index(['C/A', 'UNIT', 'SCP', 'STATION', 'LINENAME', 'DIVISION', 'DATE', 'TIME',\n",
       "       'DESC', 'ENTRIES',\n",
       "       'EXITS                                                               '],\n",
       "      dtype='object')"
      ]
     },
     "execution_count": 8,
     "metadata": {},
     "output_type": "execute_result"
    }
   ],
   "source": [
    "turnstile.columns"
   ]
  },
  {
   "cell_type": "code",
   "execution_count": 172,
   "metadata": {},
   "outputs": [
    {
     "data": {
      "text/plain": [
       "C/A                                                                     0\n",
       "UNIT                                                                    0\n",
       "SCP                                                                     0\n",
       "STATION                                                                 0\n",
       "LINENAME                                                                0\n",
       "DIVISION                                                                0\n",
       "DATE                                                                    0\n",
       "TIME                                                                    0\n",
       "DESC                                                                    0\n",
       "ENTRIES                                                                 0\n",
       "EXITS                                                                   0\n",
       "dtype: int64"
      ]
     },
     "execution_count": 172,
     "metadata": {},
     "output_type": "execute_result"
    }
   ],
   "source": [
    "Jan05.isnull().sum() # equivalent to: Jan05.isna().sum()"
   ]
  },
  {
   "cell_type": "code",
   "execution_count": 173,
   "metadata": {},
   "outputs": [
    {
     "name": "stdout",
     "output_type": "stream",
     "text": [
      "<class 'pandas.core.frame.DataFrame'>\n",
      "RangeIndex: 804822 entries, 0 to 804821\n",
      "Data columns (total 11 columns):\n",
      "C/A                                                                     804822 non-null object\n",
      "UNIT                                                                    804822 non-null object\n",
      "SCP                                                                     804822 non-null object\n",
      "STATION                                                                 804822 non-null object\n",
      "LINENAME                                                                804822 non-null object\n",
      "DIVISION                                                                804822 non-null object\n",
      "DATE                                                                    804822 non-null object\n",
      "TIME                                                                    804822 non-null object\n",
      "DESC                                                                    804822 non-null object\n",
      "ENTRIES                                                                 804822 non-null int64\n",
      "EXITS                                                                   804822 non-null int64\n",
      "dtypes: int64(2), object(9)\n",
      "memory usage: 67.5+ MB\n"
     ]
    }
   ],
   "source": [
    "Jan05.info()"
   ]
  },
  {
   "cell_type": "code",
   "execution_count": 174,
   "metadata": {},
   "outputs": [
    {
     "data": {
      "text/html": [
       "<div>\n",
       "<style scoped>\n",
       "    .dataframe tbody tr th:only-of-type {\n",
       "        vertical-align: middle;\n",
       "    }\n",
       "\n",
       "    .dataframe tbody tr th {\n",
       "        vertical-align: top;\n",
       "    }\n",
       "\n",
       "    .dataframe thead th {\n",
       "        text-align: right;\n",
       "    }\n",
       "</style>\n",
       "<table border=\"1\" class=\"dataframe\">\n",
       "  <thead>\n",
       "    <tr style=\"text-align: right;\">\n",
       "      <th></th>\n",
       "      <th>C/A</th>\n",
       "      <th>UNIT</th>\n",
       "      <th>SCP</th>\n",
       "      <th>STATION</th>\n",
       "      <th>LINENAME</th>\n",
       "      <th>DIVISION</th>\n",
       "      <th>DATE</th>\n",
       "      <th>TIME</th>\n",
       "      <th>DESC</th>\n",
       "      <th>ENTRIES</th>\n",
       "      <th>EXITS</th>\n",
       "    </tr>\n",
       "  </thead>\n",
       "  <tbody>\n",
       "    <tr>\n",
       "      <th>0</th>\n",
       "      <td>A002</td>\n",
       "      <td>R051</td>\n",
       "      <td>02-00-00</td>\n",
       "      <td>59 ST</td>\n",
       "      <td>NQR456W</td>\n",
       "      <td>BMT</td>\n",
       "      <td>01/05/2019</td>\n",
       "      <td>03:00:00</td>\n",
       "      <td>REGULAR</td>\n",
       "      <td>6897012</td>\n",
       "      <td>2338472</td>\n",
       "    </tr>\n",
       "    <tr>\n",
       "      <th>1</th>\n",
       "      <td>A002</td>\n",
       "      <td>R051</td>\n",
       "      <td>02-00-00</td>\n",
       "      <td>59 ST</td>\n",
       "      <td>NQR456W</td>\n",
       "      <td>BMT</td>\n",
       "      <td>01/05/2019</td>\n",
       "      <td>07:00:00</td>\n",
       "      <td>REGULAR</td>\n",
       "      <td>6897023</td>\n",
       "      <td>2338487</td>\n",
       "    </tr>\n",
       "    <tr>\n",
       "      <th>2</th>\n",
       "      <td>A002</td>\n",
       "      <td>R051</td>\n",
       "      <td>02-00-00</td>\n",
       "      <td>59 ST</td>\n",
       "      <td>NQR456W</td>\n",
       "      <td>BMT</td>\n",
       "      <td>01/05/2019</td>\n",
       "      <td>11:00:00</td>\n",
       "      <td>REGULAR</td>\n",
       "      <td>6897083</td>\n",
       "      <td>2338565</td>\n",
       "    </tr>\n",
       "    <tr>\n",
       "      <th>3</th>\n",
       "      <td>A002</td>\n",
       "      <td>R051</td>\n",
       "      <td>02-00-00</td>\n",
       "      <td>59 ST</td>\n",
       "      <td>NQR456W</td>\n",
       "      <td>BMT</td>\n",
       "      <td>01/05/2019</td>\n",
       "      <td>15:00:00</td>\n",
       "      <td>REGULAR</td>\n",
       "      <td>6897262</td>\n",
       "      <td>2338624</td>\n",
       "    </tr>\n",
       "    <tr>\n",
       "      <th>4</th>\n",
       "      <td>A002</td>\n",
       "      <td>R051</td>\n",
       "      <td>02-00-00</td>\n",
       "      <td>59 ST</td>\n",
       "      <td>NQR456W</td>\n",
       "      <td>BMT</td>\n",
       "      <td>01/05/2019</td>\n",
       "      <td>19:00:00</td>\n",
       "      <td>REGULAR</td>\n",
       "      <td>6897572</td>\n",
       "      <td>2338679</td>\n",
       "    </tr>\n",
       "  </tbody>\n",
       "</table>\n",
       "</div>"
      ],
      "text/plain": [
       "    C/A  UNIT       SCP STATION LINENAME DIVISION        DATE      TIME  \\\n",
       "0  A002  R051  02-00-00   59 ST  NQR456W      BMT  01/05/2019  03:00:00   \n",
       "1  A002  R051  02-00-00   59 ST  NQR456W      BMT  01/05/2019  07:00:00   \n",
       "2  A002  R051  02-00-00   59 ST  NQR456W      BMT  01/05/2019  11:00:00   \n",
       "3  A002  R051  02-00-00   59 ST  NQR456W      BMT  01/05/2019  15:00:00   \n",
       "4  A002  R051  02-00-00   59 ST  NQR456W      BMT  01/05/2019  19:00:00   \n",
       "\n",
       "      DESC  ENTRIES  \\\n",
       "0  REGULAR  6897012   \n",
       "1  REGULAR  6897023   \n",
       "2  REGULAR  6897083   \n",
       "3  REGULAR  6897262   \n",
       "4  REGULAR  6897572   \n",
       "\n",
       "   EXITS                                                                 \n",
       "0                                            2338472                     \n",
       "1                                            2338487                     \n",
       "2                                            2338565                     \n",
       "3                                            2338624                     \n",
       "4                                            2338679                     "
      ]
     },
     "execution_count": 174,
     "metadata": {},
     "output_type": "execute_result"
    }
   ],
   "source": [
    "Jan05.head()"
   ]
  },
  {
   "cell_type": "code",
   "execution_count": 175,
   "metadata": {},
   "outputs": [
    {
     "data": {
      "text/plain": [
       "Index(['C/A', 'UNIT', 'SCP', 'STATION', 'LINENAME', 'DIVISION', 'DATE', 'TIME',\n",
       "       'DESC', 'ENTRIES', 'EXITS'],\n",
       "      dtype='object')"
      ]
     },
     "execution_count": 175,
     "metadata": {},
     "output_type": "execute_result"
    }
   ],
   "source": [
    "Jan05.columns = [col.strip() for col in Jan05.columns]\n",
    "Jan05.columns"
   ]
  },
  {
   "cell_type": "code",
   "execution_count": 176,
   "metadata": {},
   "outputs": [],
   "source": [
    "Jan05['ENTRIES DIFF'] = Jan05.groupby('STATION')['ENTRIES'].diff()"
   ]
  },
  {
   "cell_type": "code",
   "execution_count": 177,
   "metadata": {},
   "outputs": [],
   "source": [
    "Jan05['ENTRIES DIFF'] = Jan05.groupby('STATION')['ENTRIES'].diff()\n",
    "Jan05['EXITS DIFF'] = Jan05.groupby('STATION')['EXITS'].diff()"
   ]
  },
  {
   "cell_type": "code",
   "execution_count": 178,
   "metadata": {},
   "outputs": [
    {
     "data": {
      "text/plain": [
       "C/A             16123\n",
       "UNIT            16123\n",
       "SCP             16123\n",
       "STATION         16123\n",
       "LINENAME        16123\n",
       "DIVISION        16123\n",
       "DATE            16123\n",
       "TIME            16123\n",
       "DESC            16123\n",
       "ENTRIES         16123\n",
       "EXITS           16123\n",
       "ENTRIES DIFF    16123\n",
       "EXITS DIFF      16123\n",
       "dtype: int64"
      ]
     },
     "execution_count": 178,
     "metadata": {},
     "output_type": "execute_result"
    }
   ],
   "source": [
    "Jan05[Jan05['ENTRIES DIFF'] < 0].count()\n",
    "#since we have 2% of the dirty data, we can drop the data"
   ]
  },
  {
   "cell_type": "code",
   "execution_count": 179,
   "metadata": {},
   "outputs": [
    {
     "data": {
      "text/plain": [
       "C/A             14955\n",
       "UNIT            14955\n",
       "SCP             14955\n",
       "STATION         14955\n",
       "LINENAME        14955\n",
       "DIVISION        14955\n",
       "DATE            14955\n",
       "TIME            14955\n",
       "DESC            14955\n",
       "ENTRIES         14955\n",
       "EXITS           14955\n",
       "ENTRIES DIFF    14955\n",
       "EXITS DIFF      14955\n",
       "dtype: int64"
      ]
     },
     "execution_count": 179,
     "metadata": {},
     "output_type": "execute_result"
    }
   ],
   "source": [
    "Jan05[Jan05['EXITS DIFF'] < 0].count()"
   ]
  },
  {
   "cell_type": "code",
   "execution_count": 180,
   "metadata": {},
   "outputs": [
    {
     "data": {
      "text/plain": [
       "C/A             10359\n",
       "UNIT            10359\n",
       "SCP             10359\n",
       "STATION         10359\n",
       "LINENAME        10359\n",
       "DIVISION        10359\n",
       "DATE            10359\n",
       "TIME            10359\n",
       "DESC            10359\n",
       "ENTRIES         10359\n",
       "EXITS           10359\n",
       "ENTRIES DIFF    10359\n",
       "EXITS DIFF      10359\n",
       "dtype: int64"
      ]
     },
     "execution_count": 180,
     "metadata": {},
     "output_type": "execute_result"
    }
   ],
   "source": [
    "Jan05[(Jan05['ENTRIES DIFF'] < 0) & (Jan05['EXITS DIFF'] < 0)].count()"
   ]
  },
  {
   "cell_type": "code",
   "execution_count": 181,
   "metadata": {},
   "outputs": [
    {
     "data": {
      "text/plain": [
       "C/A             20719\n",
       "UNIT            20719\n",
       "SCP             20719\n",
       "STATION         20719\n",
       "LINENAME        20719\n",
       "DIVISION        20719\n",
       "DATE            20719\n",
       "TIME            20719\n",
       "DESC            20719\n",
       "ENTRIES         20719\n",
       "EXITS           20719\n",
       "ENTRIES DIFF    20719\n",
       "EXITS DIFF      20719\n",
       "dtype: int64"
      ]
     },
     "execution_count": 181,
     "metadata": {},
     "output_type": "execute_result"
    }
   ],
   "source": [
    "Jan05[(Jan05['ENTRIES DIFF'] < 0) | (Jan05['EXITS DIFF'] < 0)].count()"
   ]
  },
  {
   "cell_type": "code",
   "execution_count": 182,
   "metadata": {},
   "outputs": [
    {
     "data": {
      "text/plain": [
       "377"
      ]
     },
     "execution_count": 182,
     "metadata": {},
     "output_type": "execute_result"
    }
   ],
   "source": [
    "Jan05['ENTRIES DIFF'].isna().sum()"
   ]
  },
  {
   "cell_type": "code",
   "execution_count": 183,
   "metadata": {},
   "outputs": [
    {
     "data": {
      "text/plain": [
       "377"
      ]
     },
     "execution_count": 183,
     "metadata": {},
     "output_type": "execute_result"
    }
   ],
   "source": [
    "Jan05['EXITS DIFF'].isna().sum()"
   ]
  },
  {
   "cell_type": "code",
   "execution_count": 184,
   "metadata": {},
   "outputs": [],
   "source": [
    "#dropping the negative difference and nan\n",
    "Jan05=Jan05.drop(Jan05[Jan05['ENTRIES DIFF'] < 0].index)\n",
    "Jan05=Jan05.drop(Jan05[Jan05['EXITS DIFF'] < 0].index)\n",
    "Jan05=Jan05.dropna()"
   ]
  },
  {
   "cell_type": "code",
   "execution_count": 185,
   "metadata": {},
   "outputs": [
    {
     "data": {
      "text/plain": [
       "C/A             0\n",
       "UNIT            0\n",
       "SCP             0\n",
       "STATION         0\n",
       "LINENAME        0\n",
       "DIVISION        0\n",
       "DATE            0\n",
       "TIME            0\n",
       "DESC            0\n",
       "ENTRIES         0\n",
       "EXITS           0\n",
       "ENTRIES DIFF    0\n",
       "EXITS DIFF      0\n",
       "dtype: int64"
      ]
     },
     "execution_count": 185,
     "metadata": {},
     "output_type": "execute_result"
    }
   ],
   "source": [
    "Jan05.isna().sum()"
   ]
  },
  {
   "cell_type": "code",
   "execution_count": 186,
   "metadata": {},
   "outputs": [],
   "source": [
    "#station name cleansing\n",
    "#the strip() removes characters from both left and right based on the argument\n",
    "Jan05['STATION']=[name.strip() for name in Jan05.STATION]"
   ]
  },
  {
   "cell_type": "markdown",
   "metadata": {},
   "source": [
    "### Challenge 9\n",
    "**Over multiple weeks, sum total ridership for each station and sort them, so you can find out the stations with the highest traffic during the time you investigate**"
   ]
  },
  {
   "cell_type": "code",
   "execution_count": 188,
   "metadata": {},
   "outputs": [],
   "source": [
    "Jan05['year_month'] = pd.to_datetime(Jan05['DATE']).dt.to_period('M')"
   ]
  },
  {
   "cell_type": "code",
   "execution_count": 189,
   "metadata": {},
   "outputs": [
    {
     "data": {
      "text/html": [
       "<div>\n",
       "<style scoped>\n",
       "    .dataframe tbody tr th:only-of-type {\n",
       "        vertical-align: middle;\n",
       "    }\n",
       "\n",
       "    .dataframe tbody tr th {\n",
       "        vertical-align: top;\n",
       "    }\n",
       "\n",
       "    .dataframe thead th {\n",
       "        text-align: right;\n",
       "    }\n",
       "</style>\n",
       "<table border=\"1\" class=\"dataframe\">\n",
       "  <thead>\n",
       "    <tr style=\"text-align: right;\">\n",
       "      <th></th>\n",
       "      <th>C/A</th>\n",
       "      <th>UNIT</th>\n",
       "      <th>SCP</th>\n",
       "      <th>STATION</th>\n",
       "      <th>LINENAME</th>\n",
       "      <th>DIVISION</th>\n",
       "      <th>DATE</th>\n",
       "      <th>TIME</th>\n",
       "      <th>DESC</th>\n",
       "      <th>ENTRIES</th>\n",
       "      <th>EXITS</th>\n",
       "      <th>ENTRIES DIFF</th>\n",
       "      <th>EXITS DIFF</th>\n",
       "      <th>year_month</th>\n",
       "    </tr>\n",
       "  </thead>\n",
       "  <tbody>\n",
       "    <tr>\n",
       "      <th>1</th>\n",
       "      <td>A002</td>\n",
       "      <td>R051</td>\n",
       "      <td>02-00-00</td>\n",
       "      <td>59 ST</td>\n",
       "      <td>NQR456W</td>\n",
       "      <td>BMT</td>\n",
       "      <td>01/05/2019</td>\n",
       "      <td>07:00:00</td>\n",
       "      <td>REGULAR</td>\n",
       "      <td>6897023</td>\n",
       "      <td>2338487</td>\n",
       "      <td>11.0</td>\n",
       "      <td>15.0</td>\n",
       "      <td>2019-01</td>\n",
       "    </tr>\n",
       "    <tr>\n",
       "      <th>2</th>\n",
       "      <td>A002</td>\n",
       "      <td>R051</td>\n",
       "      <td>02-00-00</td>\n",
       "      <td>59 ST</td>\n",
       "      <td>NQR456W</td>\n",
       "      <td>BMT</td>\n",
       "      <td>01/05/2019</td>\n",
       "      <td>11:00:00</td>\n",
       "      <td>REGULAR</td>\n",
       "      <td>6897083</td>\n",
       "      <td>2338565</td>\n",
       "      <td>60.0</td>\n",
       "      <td>78.0</td>\n",
       "      <td>2019-01</td>\n",
       "    </tr>\n",
       "    <tr>\n",
       "      <th>3</th>\n",
       "      <td>A002</td>\n",
       "      <td>R051</td>\n",
       "      <td>02-00-00</td>\n",
       "      <td>59 ST</td>\n",
       "      <td>NQR456W</td>\n",
       "      <td>BMT</td>\n",
       "      <td>01/05/2019</td>\n",
       "      <td>15:00:00</td>\n",
       "      <td>REGULAR</td>\n",
       "      <td>6897262</td>\n",
       "      <td>2338624</td>\n",
       "      <td>179.0</td>\n",
       "      <td>59.0</td>\n",
       "      <td>2019-01</td>\n",
       "    </tr>\n",
       "    <tr>\n",
       "      <th>4</th>\n",
       "      <td>A002</td>\n",
       "      <td>R051</td>\n",
       "      <td>02-00-00</td>\n",
       "      <td>59 ST</td>\n",
       "      <td>NQR456W</td>\n",
       "      <td>BMT</td>\n",
       "      <td>01/05/2019</td>\n",
       "      <td>19:00:00</td>\n",
       "      <td>REGULAR</td>\n",
       "      <td>6897572</td>\n",
       "      <td>2338679</td>\n",
       "      <td>310.0</td>\n",
       "      <td>55.0</td>\n",
       "      <td>2019-01</td>\n",
       "    </tr>\n",
       "    <tr>\n",
       "      <th>5</th>\n",
       "      <td>A002</td>\n",
       "      <td>R051</td>\n",
       "      <td>02-00-00</td>\n",
       "      <td>59 ST</td>\n",
       "      <td>NQR456W</td>\n",
       "      <td>BMT</td>\n",
       "      <td>01/05/2019</td>\n",
       "      <td>23:00:00</td>\n",
       "      <td>REGULAR</td>\n",
       "      <td>6897740</td>\n",
       "      <td>2338703</td>\n",
       "      <td>168.0</td>\n",
       "      <td>24.0</td>\n",
       "      <td>2019-01</td>\n",
       "    </tr>\n",
       "  </tbody>\n",
       "</table>\n",
       "</div>"
      ],
      "text/plain": [
       "    C/A  UNIT       SCP STATION LINENAME DIVISION        DATE      TIME  \\\n",
       "1  A002  R051  02-00-00   59 ST  NQR456W      BMT  01/05/2019  07:00:00   \n",
       "2  A002  R051  02-00-00   59 ST  NQR456W      BMT  01/05/2019  11:00:00   \n",
       "3  A002  R051  02-00-00   59 ST  NQR456W      BMT  01/05/2019  15:00:00   \n",
       "4  A002  R051  02-00-00   59 ST  NQR456W      BMT  01/05/2019  19:00:00   \n",
       "5  A002  R051  02-00-00   59 ST  NQR456W      BMT  01/05/2019  23:00:00   \n",
       "\n",
       "      DESC  ENTRIES    EXITS  ENTRIES DIFF  EXITS DIFF year_month  \n",
       "1  REGULAR  6897023  2338487          11.0        15.0    2019-01  \n",
       "2  REGULAR  6897083  2338565          60.0        78.0    2019-01  \n",
       "3  REGULAR  6897262  2338624         179.0        59.0    2019-01  \n",
       "4  REGULAR  6897572  2338679         310.0        55.0    2019-01  \n",
       "5  REGULAR  6897740  2338703         168.0        24.0    2019-01  "
      ]
     },
     "execution_count": 189,
     "metadata": {},
     "output_type": "execute_result"
    }
   ],
   "source": [
    "Jan05.head()"
   ]
  },
  {
   "cell_type": "code",
   "execution_count": 190,
   "metadata": {},
   "outputs": [],
   "source": [
    "Jan05['year_month_station'] = Jan05['year_month'].map(str) + ' ' + Jan05['STATION']"
   ]
  },
  {
   "cell_type": "code",
   "execution_count": 191,
   "metadata": {},
   "outputs": [
    {
     "data": {
      "text/html": [
       "<div>\n",
       "<style scoped>\n",
       "    .dataframe tbody tr th:only-of-type {\n",
       "        vertical-align: middle;\n",
       "    }\n",
       "\n",
       "    .dataframe tbody tr th {\n",
       "        vertical-align: top;\n",
       "    }\n",
       "\n",
       "    .dataframe thead th {\n",
       "        text-align: right;\n",
       "    }\n",
       "</style>\n",
       "<table border=\"1\" class=\"dataframe\">\n",
       "  <thead>\n",
       "    <tr style=\"text-align: right;\">\n",
       "      <th></th>\n",
       "      <th>C/A</th>\n",
       "      <th>UNIT</th>\n",
       "      <th>SCP</th>\n",
       "      <th>STATION</th>\n",
       "      <th>LINENAME</th>\n",
       "      <th>DIVISION</th>\n",
       "      <th>DATE</th>\n",
       "      <th>TIME</th>\n",
       "      <th>DESC</th>\n",
       "      <th>ENTRIES</th>\n",
       "      <th>EXITS</th>\n",
       "      <th>ENTRIES DIFF</th>\n",
       "      <th>EXITS DIFF</th>\n",
       "      <th>year_month</th>\n",
       "      <th>year_month_station</th>\n",
       "    </tr>\n",
       "  </thead>\n",
       "  <tbody>\n",
       "    <tr>\n",
       "      <th>1</th>\n",
       "      <td>A002</td>\n",
       "      <td>R051</td>\n",
       "      <td>02-00-00</td>\n",
       "      <td>59 ST</td>\n",
       "      <td>NQR456W</td>\n",
       "      <td>BMT</td>\n",
       "      <td>01/05/2019</td>\n",
       "      <td>07:00:00</td>\n",
       "      <td>REGULAR</td>\n",
       "      <td>6897023</td>\n",
       "      <td>2338487</td>\n",
       "      <td>11.0</td>\n",
       "      <td>15.0</td>\n",
       "      <td>2019-01</td>\n",
       "      <td>2019-01 59 ST</td>\n",
       "    </tr>\n",
       "    <tr>\n",
       "      <th>2</th>\n",
       "      <td>A002</td>\n",
       "      <td>R051</td>\n",
       "      <td>02-00-00</td>\n",
       "      <td>59 ST</td>\n",
       "      <td>NQR456W</td>\n",
       "      <td>BMT</td>\n",
       "      <td>01/05/2019</td>\n",
       "      <td>11:00:00</td>\n",
       "      <td>REGULAR</td>\n",
       "      <td>6897083</td>\n",
       "      <td>2338565</td>\n",
       "      <td>60.0</td>\n",
       "      <td>78.0</td>\n",
       "      <td>2019-01</td>\n",
       "      <td>2019-01 59 ST</td>\n",
       "    </tr>\n",
       "    <tr>\n",
       "      <th>3</th>\n",
       "      <td>A002</td>\n",
       "      <td>R051</td>\n",
       "      <td>02-00-00</td>\n",
       "      <td>59 ST</td>\n",
       "      <td>NQR456W</td>\n",
       "      <td>BMT</td>\n",
       "      <td>01/05/2019</td>\n",
       "      <td>15:00:00</td>\n",
       "      <td>REGULAR</td>\n",
       "      <td>6897262</td>\n",
       "      <td>2338624</td>\n",
       "      <td>179.0</td>\n",
       "      <td>59.0</td>\n",
       "      <td>2019-01</td>\n",
       "      <td>2019-01 59 ST</td>\n",
       "    </tr>\n",
       "    <tr>\n",
       "      <th>4</th>\n",
       "      <td>A002</td>\n",
       "      <td>R051</td>\n",
       "      <td>02-00-00</td>\n",
       "      <td>59 ST</td>\n",
       "      <td>NQR456W</td>\n",
       "      <td>BMT</td>\n",
       "      <td>01/05/2019</td>\n",
       "      <td>19:00:00</td>\n",
       "      <td>REGULAR</td>\n",
       "      <td>6897572</td>\n",
       "      <td>2338679</td>\n",
       "      <td>310.0</td>\n",
       "      <td>55.0</td>\n",
       "      <td>2019-01</td>\n",
       "      <td>2019-01 59 ST</td>\n",
       "    </tr>\n",
       "    <tr>\n",
       "      <th>5</th>\n",
       "      <td>A002</td>\n",
       "      <td>R051</td>\n",
       "      <td>02-00-00</td>\n",
       "      <td>59 ST</td>\n",
       "      <td>NQR456W</td>\n",
       "      <td>BMT</td>\n",
       "      <td>01/05/2019</td>\n",
       "      <td>23:00:00</td>\n",
       "      <td>REGULAR</td>\n",
       "      <td>6897740</td>\n",
       "      <td>2338703</td>\n",
       "      <td>168.0</td>\n",
       "      <td>24.0</td>\n",
       "      <td>2019-01</td>\n",
       "      <td>2019-01 59 ST</td>\n",
       "    </tr>\n",
       "  </tbody>\n",
       "</table>\n",
       "</div>"
      ],
      "text/plain": [
       "    C/A  UNIT       SCP STATION LINENAME DIVISION        DATE      TIME  \\\n",
       "1  A002  R051  02-00-00   59 ST  NQR456W      BMT  01/05/2019  07:00:00   \n",
       "2  A002  R051  02-00-00   59 ST  NQR456W      BMT  01/05/2019  11:00:00   \n",
       "3  A002  R051  02-00-00   59 ST  NQR456W      BMT  01/05/2019  15:00:00   \n",
       "4  A002  R051  02-00-00   59 ST  NQR456W      BMT  01/05/2019  19:00:00   \n",
       "5  A002  R051  02-00-00   59 ST  NQR456W      BMT  01/05/2019  23:00:00   \n",
       "\n",
       "      DESC  ENTRIES    EXITS  ENTRIES DIFF  EXITS DIFF year_month  \\\n",
       "1  REGULAR  6897023  2338487          11.0        15.0    2019-01   \n",
       "2  REGULAR  6897083  2338565          60.0        78.0    2019-01   \n",
       "3  REGULAR  6897262  2338624         179.0        59.0    2019-01   \n",
       "4  REGULAR  6897572  2338679         310.0        55.0    2019-01   \n",
       "5  REGULAR  6897740  2338703         168.0        24.0    2019-01   \n",
       "\n",
       "  year_month_station  \n",
       "1      2019-01 59 ST  \n",
       "2      2019-01 59 ST  \n",
       "3      2019-01 59 ST  \n",
       "4      2019-01 59 ST  \n",
       "5      2019-01 59 ST  "
      ]
     },
     "execution_count": 191,
     "metadata": {},
     "output_type": "execute_result"
    }
   ],
   "source": [
    "Jan05.head()"
   ]
  },
  {
   "cell_type": "code",
   "execution_count": null,
   "metadata": {},
   "outputs": [],
   "source": []
  },
  {
   "cell_type": "code",
   "execution_count": 192,
   "metadata": {},
   "outputs": [
    {
     "data": {
      "text/plain": [
       "year_month_station\n",
       "2018-12 1 AV               3.940e+09\n",
       "2018-12 103 ST             1.875e+08\n",
       "2018-12 103 ST-CORONA      6.658e+07\n",
       "2018-12 104 ST             8.389e+09\n",
       "2018-12 110 ST             2.966e+07\n",
       "2018-12 111 ST             2.048e+08\n",
       "2018-12 116 ST             4.485e+09\n",
       "2018-12 116 ST-COLUMBIA    3.473e+09\n",
       "2018-12 121 ST             5.838e+09\n",
       "2018-12 125 ST             1.085e+10\n",
       "2018-12 135 ST             2.795e+08\n",
       "2018-12 137 ST CITY COL    5.649e+08\n",
       "                             ...    \n",
       "2019-01 WEST FARMS SQ      4.287e+08\n",
       "2019-01 WESTCHESTER SQ     7.163e+06\n",
       "2019-01 WHITEHALL S-FRY    1.394e+08\n",
       "2019-01 WHITLOCK AV        3.980e+06\n",
       "2019-01 WILSON AV          7.731e+05\n",
       "2019-01 WINTHROP ST        1.625e+07\n",
       "2019-01 WOODHAVEN BLVD     3.812e+07\n",
       "2019-01 WOODLAWN           5.970e+06\n",
       "2019-01 WORLD TRADE CTR    1.587e+09\n",
       "2019-01 WTC-CORTLANDT      7.309e+08\n",
       "2019-01 YORK ST            1.019e+05\n",
       "2019-01 ZEREGA AV          8.418e+05\n",
       "Name: ENTRIES DIFF, Length: 754, dtype: float64"
      ]
     },
     "execution_count": 192,
     "metadata": {},
     "output_type": "execute_result"
    }
   ],
   "source": [
    "Jan05.groupby('year_month_station')['ENTRIES DIFF'].sum()"
   ]
  },
  {
   "cell_type": "code",
   "execution_count": null,
   "metadata": {},
   "outputs": [],
   "source": [
    "plt.figure(figsize=[200,100])\n",
    "plt.plot(df_station_total)"
   ]
  },
  {
   "cell_type": "code",
   "execution_count": null,
   "metadata": {},
   "outputs": [],
   "source": [
    "df_station_total = Jan05[Jan05['ENTRIES DIFF'].sum()]\n",
    "df_station_total"
   ]
  },
  {
   "cell_type": "code",
   "execution_count": null,
   "metadata": {},
   "outputs": [],
   "source": [
    "ym_station = [name for name in Jan05['year_month_station'].unique()]"
   ]
  },
  {
   "cell_type": "code",
   "execution_count": null,
   "metadata": {},
   "outputs": [],
   "source": [
    "df_ym_station_sort= (Jan05.set_index(ym_station)\n",
    "                              .sort_index())"
   ]
  },
  {
   "cell_type": "code",
   "execution_count": null,
   "metadata": {},
   "outputs": [],
   "source": []
  }
 ],
 "metadata": {
  "kernelspec": {
   "display_name": "Python 3",
   "language": "python",
   "name": "python3"
  },
  "language_info": {
   "codemirror_mode": {
    "name": "ipython",
    "version": 3
   },
   "file_extension": ".py",
   "mimetype": "text/x-python",
   "name": "python",
   "nbconvert_exporter": "python",
   "pygments_lexer": "ipython3",
   "version": "3.7.3"
  }
 },
 "nbformat": 4,
 "nbformat_minor": 2
}
