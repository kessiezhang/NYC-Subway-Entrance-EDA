{
 "cells": [
  {
   "cell_type": "code",
   "execution_count": 1,
   "metadata": {},
   "outputs": [],
   "source": [
    "import pandas as pd\n",
    "from datetime import datetime\n",
    "import csv\n",
    "import urllib.request\n",
    "import codecs"
   ]
  },
  {
   "cell_type": "code",
   "execution_count": 2,
   "metadata": {},
   "outputs": [],
   "source": [
    "pd.set_option('display.max_columns', None)\n",
    "pd.set_option('display.max_rows', 25)\n",
    "pd.set_option('display.precision', 3)"
   ]
  },
  {
   "cell_type": "code",
   "execution_count": 157,
   "metadata": {},
   "outputs": [],
   "source": [
    "def load_csv_file(date_string):\n",
    "    # for multiple files date_string must be a string separated by a return \n",
    "    date_obj_lst = [datetime.strftime(datetime.strptime(line, '%A, %B %d, %Y'), '%y%m%d') for line in date_string.split('\\n') if line]\n",
    "    files_lst = []\n",
    "    for date in date_obj_lst:\n",
    "        site_url = 'http://web.mta.info/developers/data/nyct/turnstile/turnstile_'\n",
    "        turnstile_url = ['{0}{1}.txt'.format(site_url, date) for date in date_obj_lst]\n",
    "        filename = 'turnstile_' + str(date)\n",
    "        with open(filename, 'w') as outfile:\n",
    "            writer = csv.writer(outfile, delimiter=',')\n",
    "            ftpstream = urllib.request.urlopen(turnstile_url[0])\n",
    "            csvfile = csv.reader(codecs.iterdecode(ftpstream, 'utf-8'))\n",
    "            for line in csvfile:\n",
    "                writer.writerow(line)    \n",
    "            for url in turnstile_url[1:]:\n",
    "                ftpstream = urllib.request.urlopen(url)\n",
    "                csvfile = csv.reader(codecs.iterdecode(ftpstream, 'utf-8'))\n",
    "                firstline = True\n",
    "                for line in csvfile:\n",
    "                    if firstline:    #skips first line\n",
    "                        firstline = False\n",
    "                        continue\n",
    "                    writer.writerow(line)\n",
    "        files_lst.append(filename)\n",
    "    return files_lst"
   ]
  },
  {
   "cell_type": "code",
   "execution_count": 211,
   "metadata": {},
   "outputs": [],
   "source": [
    "def make_df(files_lst):\n",
    "    df = pd.read_csv(files_lst[0])\n",
    "    if len(files_lst) > 1:    \n",
    "        for file in files_lst[1:]:\n",
    "            df.append(pd.read_csv(file))\n",
    "    df.columns = [col.strip(' ') for col in list(df.columns)]\n",
    "    df['c_ENTRIES'] = df['ENTRIES'].shift(-1) - df['ENTRIES']\n",
    "    df['c_EXITS'] = df['EXITS'].shift(-1) - df['EXITS']\n",
    "    df['obj_DATE'] = pd.to_datetime(df['DATE'] + df['TIME'], format='%m/%d/%Y%H:%M:%S')\n",
    "    columns_dict = {k:v for k,v in enumerate(list(df.columns))}\n",
    "    # print(columns_dict)\n",
    "    drop_key = [5, 8, 9, 10]\n",
    "    drop_lst = [columns_dict[key] for key in drop_key]\n",
    "    df = df.drop(drop_lst, 1)\n",
    "    print('{} were dropped'.format(drop_lst))\n",
    "    return df"
   ]
  },
  {
   "cell_type": "code",
   "execution_count": 212,
   "metadata": {},
   "outputs": [],
   "source": [
    "def drop_outliers(pd_df):\n",
    "    initial_count = pd_df.count()\n",
    "    pd_df = pd_df[(pd_df['c_ENTRIES'] > 0) & \n",
    "            (pd_df['c_ENTRIES'] < 14400) &  # Assuming each turnstile can do 3600 person/hr * 4hrs = 14400 persons\n",
    "            (pd_df['c_EXITS'] > 0) & \n",
    "            (pd_df['c_EXITS'] < 14400)]\n",
    "    final_count = pd_df.count()\n",
    "    return pd_df"
   ]
  },
  {
   "cell_type": "code",
   "execution_count": 213,
   "metadata": {},
   "outputs": [],
   "source": []
  },
  {
   "cell_type": "code",
   "execution_count": 214,
   "metadata": {},
   "outputs": [
    {
     "data": {
      "text/plain": [
       "['turnstile_190112', 'turnstile_190105']"
      ]
     },
     "execution_count": 214,
     "metadata": {},
     "output_type": "execute_result"
    }
   ],
   "source": [
    "load_csv_file(\"\"\"Saturday, January 12, 2019\n",
    "Saturday, January 05, 2019\"\"\")"
   ]
  },
  {
   "cell_type": "code",
   "execution_count": 239,
   "metadata": {},
   "outputs": [
    {
     "name": "stdout",
     "output_type": "stream",
     "text": [
      "['DIVISION', 'DESC', 'ENTRIES', 'EXITS'] were dropped\n"
     ]
    }
   ],
   "source": [
    "test_df = make_df(['turnstile_190112', 'turnstile_190105'])"
   ]
  },
  {
   "cell_type": "code",
   "execution_count": 240,
   "metadata": {},
   "outputs": [
    {
     "name": "stdout",
     "output_type": "stream",
     "text": [
      "<class 'pandas.core.frame.DataFrame'>\n",
      "RangeIndex: 402693 entries, 0 to 402692\n",
      "Data columns (total 10 columns):\n",
      "C/A          402693 non-null object\n",
      "UNIT         402693 non-null object\n",
      "SCP          402693 non-null object\n",
      "STATION      402693 non-null object\n",
      "LINENAME     402693 non-null object\n",
      "DATE         402693 non-null object\n",
      "TIME         402693 non-null object\n",
      "c_ENTRIES    402692 non-null float64\n",
      "c_EXITS      402692 non-null float64\n",
      "obj_DATE     402693 non-null datetime64[ns]\n",
      "dtypes: datetime64[ns](1), float64(2), object(7)\n",
      "memory usage: 30.7+ MB\n"
     ]
    }
   ],
   "source": [
    "test_df.info()"
   ]
  },
  {
   "cell_type": "code",
   "execution_count": 241,
   "metadata": {},
   "outputs": [],
   "source": [
    "test_df = drop_outliers(test_df)"
   ]
  },
  {
   "cell_type": "code",
   "execution_count": 242,
   "metadata": {},
   "outputs": [
    {
     "name": "stdout",
     "output_type": "stream",
     "text": [
      "<class 'pandas.core.frame.DataFrame'>\n",
      "Int64Index: 323091 entries, 0 to 402648\n",
      "Data columns (total 10 columns):\n",
      "C/A          323091 non-null object\n",
      "UNIT         323091 non-null object\n",
      "SCP          323091 non-null object\n",
      "STATION      323091 non-null object\n",
      "LINENAME     323091 non-null object\n",
      "DATE         323091 non-null object\n",
      "TIME         323091 non-null object\n",
      "c_ENTRIES    323091 non-null float64\n",
      "c_EXITS      323091 non-null float64\n",
      "obj_DATE     323091 non-null datetime64[ns]\n",
      "dtypes: datetime64[ns](1), float64(2), object(7)\n",
      "memory usage: 27.1+ MB\n"
     ]
    }
   ],
   "source": [
    "test_df.info()"
   ]
  },
  {
   "cell_type": "code",
   "execution_count": 255,
   "metadata": {},
   "outputs": [],
   "source": [
    "def rides_per_station(pd_df):\n",
    "    time_period = input('Input 4hrs, daily, weekly, monthly')\n",
    "    if time_period == '4hrs':\n",
    "        pass\n",
    "    if time_period == 'daily':\n",
    "        pass\n",
    "    if time_period == 'weekly':\n",
    "        pass\n",
    "    if time_period == 'monthly':\n",
    "        pass\n"
   ]
  },
  {
   "cell_type": "code",
   "execution_count": 256,
   "metadata": {},
   "outputs": [
    {
     "name": "stdin",
     "output_type": "stream",
     "text": [
      "Input 4hrs, daily, weekly, monthly daily\n"
     ]
    }
   ],
   "source": [
    "rides_per_station(test_df)"
   ]
  },
  {
   "cell_type": "code",
   "execution_count": null,
   "metadata": {},
   "outputs": [],
   "source": []
  }
 ],
 "metadata": {
  "kernelspec": {
   "display_name": "metis",
   "language": "python",
   "name": "metis"
  },
  "language_info": {
   "codemirror_mode": {
    "name": "ipython",
    "version": 3
   },
   "file_extension": ".py",
   "mimetype": "text/x-python",
   "name": "python",
   "nbconvert_exporter": "python",
   "pygments_lexer": "ipython3",
   "version": "3.7.3"
  }
 },
 "nbformat": 4,
 "nbformat_minor": 2
}
