{
 "cells": [
  {
   "cell_type": "markdown",
   "metadata": {},
   "source": [
    "### Import"
   ]
  },
  {
   "cell_type": "code",
   "execution_count": 1,
   "metadata": {},
   "outputs": [],
   "source": [
    "import pandas as pd\n",
    "from datetime import datetime\n",
    "import csv\n",
    "import urllib.request\n",
    "import codecs"
   ]
  },
  {
   "cell_type": "markdown",
   "metadata": {},
   "source": [
    "### Sample Date String"
   ]
  },
  {
   "cell_type": "code",
   "execution_count": 2,
   "metadata": {},
   "outputs": [],
   "source": [
    "# Copy desired dates from website: http://web.mta.info/developers/turnstile.html\n",
    "raw_dates_txt = \"\"\"\n",
    "Saturday, January 26, 2019\n",
    "Saturday, January 19, 2019\n",
    "Saturday, January 12, 2019\n",
    "Saturday, January 05, 2019\"\"\"\n"
   ]
  },
  {
   "cell_type": "code",
   "execution_count": 3,
   "metadata": {},
   "outputs": [],
   "source": [
    "### Creates 'turnstile_data' file and saves to project folder"
   ]
  },
  {
   "cell_type": "code",
   "execution_count": 4,
   "metadata": {},
   "outputs": [],
   "source": [
    "date_obj_lst = [datetime.strftime(datetime.strptime(line, '%A, %B %d, %Y'), '%y%m%d') for line in raw_dates_txt.split('\\n') if line]\n",
    "    \n",
    "turnstile_url = ['http://web.mta.info/developers/data/nyct/turnstile/turnstile_' + date + '.txt' for date in date_obj_lst]\n",
    "\n",
    "with open('turnstile_data', 'w') as outfile:\n",
    "    writer = csv.writer(outfile, delimiter='\\n')\n",
    "\n",
    "with open('turnstile_data', 'a') as outfile:\n",
    "    writer = csv.writer(outfile, delimiter='\\n')\n",
    "    for url in turnstile_url:\n",
    "        ftpstream = urllib.request.urlopen(url)\n",
    "        csvfile = csv.reader(codecs.iterdecode(ftpstream, 'utf-8'))\n",
    "        for line in csvfile:\n",
    "            writer.writerow([line])"
   ]
  },
  {
   "cell_type": "code",
   "execution_count": null,
   "metadata": {},
   "outputs": [],
   "source": []
  }
 ],
 "metadata": {
  "kernelspec": {
   "display_name": "metis",
   "language": "python",
   "name": "metis"
  },
  "language_info": {
   "codemirror_mode": {
    "name": "ipython",
    "version": 3
   },
   "file_extension": ".py",
   "mimetype": "text/x-python",
   "name": "python",
   "nbconvert_exporter": "python",
   "pygments_lexer": "ipython3",
   "version": "3.7.3"
  }
 },
 "nbformat": 4,
 "nbformat_minor": 2
}
